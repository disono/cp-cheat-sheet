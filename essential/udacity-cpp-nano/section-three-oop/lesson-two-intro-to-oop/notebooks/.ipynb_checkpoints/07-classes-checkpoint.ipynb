{
 "cells": [
  {
   "cell_type": "markdown",
   "metadata": {},
   "source": [
    "# Classes"
   ]
  },
  {
   "cell_type": "markdown",
   "metadata": {},
   "source": [
    "We saw in the last notebook how to use private and public assets in a struct. Usually you would not do this with a struct, instead you would do it with a class. Let's re-examine the video game example in notebook 5 to see how we can make the `Door` object event better."
   ]
  },
  {
   "cell_type": "markdown",
   "metadata": {},
   "source": [
    "## Creating Doors"
   ]
  },
  {
   "cell_type": "markdown",
   "metadata": {},
   "source": [
    "Going back to the door example you are tasked with making reusable door objects in a videogame where a developer can specify the color, material, the dimensions (heigh and width), and whether the door is locked and unlocked. Let's recreate that code using a class instead of a struct and using private and public assets to ensure that our colleagues can't accidentally mess something up."
   ]
  },
  {
   "cell_type": "code",
   "execution_count": 1,
   "metadata": {},
   "outputs": [],
   "source": [
    "#include <string>  //std::string\n",
    "using std::string;\n",
    "\n",
    "class Door {\n",
    "    public:\n",
    "        // color\n",
    "        void SetColor(string c) {\n",
    "            // the door's color can only be one of the following four colors\n",
    "            if (c == \"white\" || c == \"blue\" || c == \"red\" || c == \"NONE\") {\n",
    "                color = c;\n",
    "            }\n",
    "        }\n",
    "        string GetColor() {return color;}\n",
    "    \n",
    "        // material\n",
    "        void SetMaterial(string m) {\n",
    "            // material can only be wooden or metal\n",
    "            if (m ==\"wood\" || m == \"metal\") {\n",
    "                material = m;\n",
    "            }\n",
    "        }\n",
    "        string GetMaterial() {return material;}\n",
    "    \n",
    "        // locked\n",
    "        void Unlock(bool l) {\n",
    "            // IRL you would have lots of logic here to make sure\n",
    "            // that doors cannot be easily unlocked if they are locked\n",
    "            if (l) {\n",
    "                locked = false;\n",
    "            }\n",
    "        }\n",
    "        bool IsLocked() {return locked;}\n",
    "    \n",
    "        // height\n",
    "        void SetHeight(double h) {\n",
    "            // check to make sure h is positive and not greater than 100 feet (3048cm)\n",
    "            if (h > 0 && h <= 3048) {\n",
    "                height = h;\n",
    "            }\n",
    "        }\n",
    "        double GetHeight() {return height;}\n",
    "    \n",
    "        // width \n",
    "        void SetWidth(double w) {\n",
    "            if (w > 0 && w <= 1219.20) {\n",
    "                width = w;\n",
    "            }\n",
    "        }\n",
    "        double GetWidth() {return width;}\n",
    "        \n",
    "        // constructor\n",
    "        Door(string, string, bool, double, double);\n",
    "    \n",
    "    private:\n",
    "        string color{\"white\"};\n",
    "        string material{\"wood\"};\n",
    "        bool locked{true};  // cannot enter if locked\n",
    "        double height{213.36};  //cm\n",
    "        double width{106.68};  //cm\n",
    "};"
   ]
  },
  {
   "cell_type": "code",
   "execution_count": 2,
   "metadata": {},
   "outputs": [],
   "source": [
    "Door::Door(string color, string material, bool locked, double height, double width) {\n",
    "    Door::color = color;\n",
    "    Door::material = material;\n",
    "    Door::locked = locked;\n",
    "    Door::height = height;\n",
    "    Door::width = width;\n",
    "}"
   ]
  },
  {
   "cell_type": "code",
   "execution_count": 3,
   "metadata": {},
   "outputs": [
    {
     "name": "stdout",
     "output_type": "stream",
     "text": [
      "         Door Features         \n",
      "-------------------------------\n",
      "Color:      NONE\n",
      "Material:   wood\n",
      "Locked:     1\n",
      "Dimensions: 106.68cm x 213.36cm\n"
     ]
    }
   ],
   "source": [
    "#include <iostream>  // std::cout && std::string\n",
    "using std::cout;\n",
    "using std::string;\n",
    "\n",
    "Door wooden_door_01(\"NONE\", \"wood\", false, 243.84, 121.92);\n",
    "\n",
    "cout << \"         Door Features         \\n\"\n",
    "     << \"-------------------------------\\n\"\n",
    "     << \"Color:      \" << wooden_door_01.GetColor() << \"\\n\"\n",
    "     << \"Material:   \" << wooden_door_01.GetMaterial() << \"\\n\"\n",
    "     << \"Locked:     \" << wooden_door_01.IsLocked() << \"\\n\"\n",
    "     << \"Dimensions: \" << wooden_door_01.GetWidth() << \"cm x \" << wooden_door_01.GetHeight() << \"cm\" << std::endl;"
   ]
  },
  {
   "cell_type": "code",
   "execution_count": null,
   "metadata": {},
   "outputs": [],
   "source": []
  }
 ],
 "metadata": {
  "kernelspec": {
   "display_name": "C++17",
   "language": "C++17",
   "name": "xcpp17"
  },
  "language_info": {
   "codemirror_mode": "text/x-c++src",
   "file_extension": ".cpp",
   "mimetype": "text/x-c++src",
   "name": "c++",
   "version": "17"
  }
 },
 "nbformat": 4,
 "nbformat_minor": 4
}
