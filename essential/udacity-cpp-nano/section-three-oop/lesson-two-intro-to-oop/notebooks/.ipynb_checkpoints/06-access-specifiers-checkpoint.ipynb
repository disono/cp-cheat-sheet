{
 "cells": [
  {
   "cell_type": "markdown",
   "metadata": {},
   "source": [
    "# Access Specifiers"
   ]
  },
  {
   "cell_type": "markdown",
   "metadata": {},
   "source": [
    "Looking back at our `Date` struct in the previous section we can see that there really isn't a way to stop the user from entering in a date value that might not exist such as with the case with negative numbers (i.e. 2/7/-2008)."
   ]
  },
  {
   "cell_type": "code",
   "execution_count": 1,
   "metadata": {},
   "outputs": [],
   "source": [
    "struct Date {\n",
    "    int day{1};\n",
    "    int month{1};\n",
    "    int year{1900};\n",
    "}"
   ]
  },
  {
   "cell_type": "code",
   "execution_count": 2,
   "metadata": {},
   "outputs": [
    {
     "name": "stdout",
     "output_type": "stream",
     "text": [
      "2/7/-2008\n"
     ]
    }
   ],
   "source": [
    "#include <iostream>\n",
    "\n",
    "Date today;\n",
    "\n",
    "today.day = 7;\n",
    "today.month = 2;\n",
    "today.year = -2008;\n",
    "\n",
    "std::cout << today.month << \"/\" << today.day << \"/\" << today.year << \"\\n\";"
   ]
  },
  {
   "cell_type": "markdown",
   "metadata": {},
   "source": [
    "Obviously this is something that we want to avoid. On way to do this is to make the integer values in the struct private. Once they are private users cannot directly update the variables themselves. Instead we will write public functions in the struct that will allow the user to update the variables **only** after our code has performed a logic check to make sure that the date input is valid."
   ]
  },
  {
   "cell_type": "code",
   "execution_count": 3,
   "metadata": {},
   "outputs": [],
   "source": [
    "struct BetterDate {\n",
    "    public:\n",
    "        // day\n",
    "        int Day() {return day;}\n",
    "        void Day(int d) {\n",
    "            if(d > 0 && d < 32) {day = d;}\n",
    "        }\n",
    "        // month\n",
    "        int Month() {return month;}\n",
    "        void Month(int m) {\n",
    "            if(m > 0 && m < 13) {month = m;}\n",
    "        }\n",
    "        // year\n",
    "        int Year() {return year;}\n",
    "        void Year(int y) {\n",
    "            if(y > 0) {year = y;}\n",
    "        }\n",
    "    \n",
    "    private:\n",
    "        int day{1};\n",
    "        int month{1};\n",
    "        int year{1900};\n",
    "}"
   ]
  },
  {
   "cell_type": "markdown",
   "metadata": {},
   "source": [
    "Of course this still has some pretty glaring issues like not distinguishing between months with 30 days and months with 31 day. And don't even get us started on fucking February. Still, you can start to see how this will allow the user to set and call the private variables without having direct access to them. This is important because you can never underestimate the stupidity of your users and even more importantly, you can never underestimate the stupidity of your own code."
   ]
  },
  {
   "cell_type": "code",
   "execution_count": 4,
   "metadata": {},
   "outputs": [],
   "source": [
    "#include <iostream>\n",
    "\n",
    "BetterDate new_today;\n",
    "\n",
    "new_today.Day(30);\n",
    "new_today.Month(4);\n",
    "new_today.Year(-2020);"
   ]
  },
  {
   "cell_type": "code",
   "execution_count": 5,
   "metadata": {},
   "outputs": [
    {
     "name": "stdout",
     "output_type": "stream",
     "text": [
      "4/30/1900\n"
     ]
    }
   ],
   "source": [
    "std::cout << new_today.Month() << \"/\" << new_today.Day() << \"/\" << new_today.Year() << \"\\n\";"
   ]
  },
  {
   "cell_type": "markdown",
   "metadata": {},
   "source": [
    "What's that? Your idiotic code that set the year to -2020 didn't work? That's the power of private variables and public functions in your structs. "
   ]
  },
  {
   "cell_type": "code",
   "execution_count": 6,
   "metadata": {},
   "outputs": [
    {
     "name": "stdout",
     "output_type": "stream",
     "text": [
      "5/1/2020\n"
     ]
    }
   ],
   "source": [
    "BetterDate tomorrow;\n",
    "\n",
    "tomorrow.Day(1);\n",
    "tomorrow.Month(5);\n",
    "tomorrow.Year(2020);\n",
    "\n",
    "std::cout << tomorrow.Month() << \"/\" << tomorrow.Day() << \"/\" << tomorrow.Year() << \"\\n\";"
   ]
  }
 ],
 "metadata": {
  "kernelspec": {
   "display_name": "C++17",
   "language": "C++17",
   "name": "xcpp17"
  },
  "language_info": {
   "codemirror_mode": "text/x-c++src",
   "file_extension": ".cpp",
   "mimetype": "text/x-c++src",
   "name": "c++",
   "version": "17"
  }
 },
 "nbformat": 4,
 "nbformat_minor": 4
}
