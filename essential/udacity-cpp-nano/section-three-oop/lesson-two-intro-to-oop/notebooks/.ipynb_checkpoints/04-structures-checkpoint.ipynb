{
 "cells": [
  {
   "cell_type": "code",
   "execution_count": 1,
   "metadata": {},
   "outputs": [],
   "source": [
    "#include <cassert>\n",
    "#include <iostream>"
   ]
  },
  {
   "cell_type": "code",
   "execution_count": 2,
   "metadata": {},
   "outputs": [],
   "source": [
    "// Date structure\n",
    "struct Date {\n",
    "    int day;\n",
    "    int month;\n",
    "    int year;\n",
    "};"
   ]
  },
  {
   "cell_type": "code",
   "execution_count": 3,
   "metadata": {},
   "outputs": [
    {
     "name": "stdout",
     "output_type": "stream",
     "text": [
      "8/30/1981\n"
     ]
    }
   ],
   "source": [
    "Date date;\n",
    "\n",
    "// TODO: intialize date to August 29, 1981\n",
    "date.day = 30;\n",
    "date.month = 8;\n",
    "date.year = 1981;\n",
    "\n",
    "// TEST\n",
    "assert(date.day == 29);\n",
    "assert(date.month == 8);\n",
    "assert(date.year == 1981);\n",
    "\n",
    "std::cout << date.month << \"/\" << date.day << \"/\" << date.year << \"\\n\";"
   ]
  },
  {
   "cell_type": "code",
   "execution_count": 4,
   "metadata": {},
   "outputs": [
    {
     "name": "stdout",
     "output_type": "stream",
     "text": [
      "30"
     ]
    }
   ],
   "source": [
    "std::cout << date.day;"
   ]
  },
  {
   "cell_type": "code",
   "execution_count": 5,
   "metadata": {},
   "outputs": [],
   "source": [
    "date.day = 29;"
   ]
  },
  {
   "cell_type": "code",
   "execution_count": 6,
   "metadata": {},
   "outputs": [
    {
     "name": "stdout",
     "output_type": "stream",
     "text": [
      "8/29/1981\n"
     ]
    }
   ],
   "source": [
    "std::cout << date.month << \"/\" << date.day << \"/\" << date.year << \"\\n\";"
   ]
  },
  {
   "cell_type": "code",
   "execution_count": 7,
   "metadata": {},
   "outputs": [
    {
     "name": "stdout",
     "output_type": "stream",
     "text": [
      "08/29/1981\n"
     ]
    }
   ],
   "source": [
    "if (date.month < 10) {\n",
    "    std::cout << \"0\" << date.month << \"/\" << date.day << \"/\" << date.year << \"\\n\";\n",
    "} else {\n",
    "    std::cout << date.month << \"/\" << date.day << \"/\" << date.year << \"\\n\";\n",
    "}"
   ]
  },
  {
   "cell_type": "markdown",
   "metadata": {},
   "source": [
    "## Note about asserts\n",
    "\n",
    "Assert appear to not be working with the Xeus-cling jupyter notebooks. See [this](https://github.com/jupyter-xeus/xeus-cling/issues/208) issue."
   ]
  },
  {
   "cell_type": "code",
   "execution_count": 8,
   "metadata": {},
   "outputs": [],
   "source": [
    "assert(date.day == 30); "
   ]
  },
  {
   "cell_type": "code",
   "execution_count": null,
   "metadata": {},
   "outputs": [],
   "source": []
  }
 ],
 "metadata": {
  "kernelspec": {
   "display_name": "C++17",
   "language": "C++17",
   "name": "xcpp17"
  },
  "language_info": {
   "codemirror_mode": "text/x-c++src",
   "file_extension": ".cpp",
   "mimetype": "text/x-c++src",
   "name": "c++",
   "version": "17"
  }
 },
 "nbformat": 4,
 "nbformat_minor": 4
}
