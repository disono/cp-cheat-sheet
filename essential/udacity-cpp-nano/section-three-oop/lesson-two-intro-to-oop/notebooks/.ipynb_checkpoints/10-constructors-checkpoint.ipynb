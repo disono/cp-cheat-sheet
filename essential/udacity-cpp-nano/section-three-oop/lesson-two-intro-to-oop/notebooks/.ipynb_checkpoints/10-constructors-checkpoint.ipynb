{
 "cells": [
  {
   "cell_type": "markdown",
   "metadata": {},
   "source": [
    "# Contstructors\n",
    "\n",
    "Constructprs are memner functions of a class or a struct that initialize an object. The [Core Guidelines](https://github.com/isocpp/CppCoreGuidelines) define a constructor as:\n",
    "\n",
    "\"an operation that initializes (\"constructs\") an object. Typically a contrsuctor establoshes an invariant and often acquires resources needed for an object to be used (which are then typically released by the destructor)\"\n",
    "\n",
    "If you set up the constructor in a safe manor then you can ensure that when objects are created you are enstantiating them with special, \"only-at-creation\" variables. You can see this in fields such as blockchain and cryptocurrency when contracts are created and you use constructors to ensure that only the creator of that contract can destroy it. If you do not use constructors and private variables well enough in a contract (potentially controlling huge amounts of value) then you open yourself up to hacks and people stealing any value held in the contract. \n",
    "\n",
    "Below we create a mock class called `Contract` that takes in a name at creation and assigns that name to being the owner. Please be warned that this is not secure in anyway and that blockchain contracts would utilize advanced encryption and other techniques to ensure the uniqueness of the person or people creating the contract. "
   ]
  },
  {
   "cell_type": "code",
   "execution_count": 1,
   "metadata": {},
   "outputs": [],
   "source": [
    "#include <iostream>  //std::string\n",
    "using std::string;\n",
    "\n",
    "class Contract {\n",
    "    public:\n",
    "        // getter and setter functions\n",
    "        string GetOwner() {\n",
    "            return owner;\n",
    "        }\n",
    "        // constructor declaration\n",
    "        Contract(string);\n",
    "    \n",
    "    private:\n",
    "        void SetOwner(string owner) {\n",
    "            owner = owner;\n",
    "        }\n",
    "        string owner{\"None\"};\n",
    "}"
   ]
  },
  {
   "cell_type": "code",
   "execution_count": 2,
   "metadata": {},
   "outputs": [],
   "source": [
    "// define the constructor function\n",
    "Contract::Contract(string owner) {\n",
    "    Contract::owner = owner;\n",
    "}"
   ]
  },
  {
   "cell_type": "markdown",
   "metadata": {},
   "source": [
    "Now when we create a contract and pass in a string, that string will be assigned as the owner of the contract. Notice that in our getter and setter functions we actually only have a getter function because we do not want the user to be able to set a new owner of the contract after creation. "
   ]
  },
  {
   "cell_type": "code",
   "execution_count": 3,
   "metadata": {},
   "outputs": [
    {
     "name": "stdout",
     "output_type": "stream",
     "text": [
      "Bob\n"
     ]
    }
   ],
   "source": [
    "using namespace std;\n",
    "\n",
    "Contract NewContract(\"Bob\");\n",
    "\n",
    "cout << NewContract.GetOwner() << endl;"
   ]
  }
 ],
 "metadata": {
  "kernelspec": {
   "display_name": "C++17",
   "language": "C++17",
   "name": "xcpp17"
  },
  "language_info": {
   "codemirror_mode": "text/x-c++src",
   "file_extension": ".cpp",
   "mimetype": "text/x-c++src",
   "name": "c++",
   "version": "17"
  }
 },
 "nbformat": 4,
 "nbformat_minor": 4
}
