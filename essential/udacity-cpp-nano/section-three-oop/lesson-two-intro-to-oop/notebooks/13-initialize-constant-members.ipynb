{
 "cells": [
  {
   "cell_type": "markdown",
   "metadata": {},
   "source": [
    "# Initialize Constant Members"
   ]
  },
  {
   "cell_type": "code",
   "execution_count": 1,
   "metadata": {},
   "outputs": [],
   "source": [
    "#include <iostream>  //std::string\n",
    "using std::string;\n",
    "\n",
    "class Contract {\n",
    "    public:\n",
    "        // getter and setter functions\n",
    "        string GetOwner() {\n",
    "            return owner;\n",
    "        }\n",
    "        // constructor declaration\n",
    "        Contract(string);\n",
    "    \n",
    "    private:\n",
    "        string const owner{\"None\"};\n",
    "}"
   ]
  },
  {
   "cell_type": "code",
   "execution_count": 2,
   "metadata": {},
   "outputs": [],
   "source": [
    "// define the constructor function\n",
    "Contract::Contract(string owner) : owner(owner) {}"
   ]
  },
  {
   "cell_type": "code",
   "execution_count": 3,
   "metadata": {},
   "outputs": [
    {
     "name": "stdout",
     "output_type": "stream",
     "text": [
      "Bob\n"
     ]
    }
   ],
   "source": [
    "using namespace std;\n",
    "\n",
    "Contract NewContract(\"Bob\");\n",
    "\n",
    "cout << NewContract.GetOwner() << endl;"
   ]
  },
  {
   "cell_type": "code",
   "execution_count": null,
   "metadata": {},
   "outputs": [],
   "source": []
  }
 ],
 "metadata": {
  "kernelspec": {
   "display_name": "C++17",
   "language": "C++17",
   "name": "xcpp17"
  },
  "language_info": {
   "codemirror_mode": "text/x-c++src",
   "file_extension": ".cpp",
   "mimetype": "text/x-c++src",
   "name": "c++",
   "version": "17"
  }
 },
 "nbformat": 4,
 "nbformat_minor": 4
}
