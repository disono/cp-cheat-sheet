{
 "cells": [
  {
   "cell_type": "markdown",
   "metadata": {},
   "source": [
    "# Member Initialization"
   ]
  },
  {
   "cell_type": "markdown",
   "metadata": {},
   "source": [
    "Generally, we want to avoid instantiating an object with undefined members so we ensure that (unless there is good reason) all members of an object to be in a valid state.\n",
    "\n",
    "Below is an example of initializing the members in the `Date` object from the previous notebook:"
   ]
  },
  {
   "cell_type": "code",
   "execution_count": 1,
   "metadata": {},
   "outputs": [],
   "source": [
    "struct Date {\n",
    "    uint day{1};\n",
    "    uint month{1};\n",
    "    uint year{1900};\n",
    "}"
   ]
  },
  {
   "cell_type": "markdown",
   "metadata": {},
   "source": [
    "Of course, we can always change these value when we actually create a variable using this new Date type object that we created. See the code snippets below for as an example:"
   ]
  },
  {
   "cell_type": "code",
   "execution_count": 2,
   "metadata": {},
   "outputs": [
    {
     "name": "stdout",
     "output_type": "stream",
     "text": [
      "Today's date is: 4/29/2020\n"
     ]
    }
   ],
   "source": [
    "#include <iostream> // std::cout\n",
    "\n",
    "// create a new Date type variable called today with today's date in it\n",
    "Date today{29, 4, 2020};\n",
    "\n",
    "// print the output to the console\n",
    "std::cout << \"Today's date is: \"\n",
    "          << today.month << \"/\" << today.day << \"/\" << today.year << \"\\n\";"
   ]
  },
  {
   "cell_type": "markdown",
   "metadata": {},
   "source": [
    "## More Practice"
   ]
  },
  {
   "cell_type": "markdown",
   "metadata": {},
   "source": [
    "Let's look at another example, this time something related to game development. Let's pretend that you are creating a video game and in the game there are hundreds or even thousands of objects. As a junior dev you are responsible for the development of simple assets (objects). Your team lead has assigned you to create a simple door to be added to a house in the game. Players can interact with the door simply by opening it. Doors can be locked and unlocked depending on various factors and to be efficient we will reuse this door object for all doors in the game so the door you develop needs to be highly customizeable.\n",
    "\n",
    "Even something as simple as the door you've been assigned to create can require a lot of member variables in the object. Let's look at some of the possible member variables:\n",
    "\n",
    "1. `color` variable (string)\n",
    "2. `material` variable (string)\n",
    "3. `locked` variable (boolean)\n",
    "4. `height` variable (float)\n",
    "5. `width` variable (float)\n",
    "\n",
    "Of course this is just an example and creating a door object in an actual game can be WAY more complex, but we'll still use this to start. Let's create the object structure below and remember to not leave any member variables unitialized. A default door for our example will be one that is a wooden, white door approximately 7 feet tall and 3 feet wide (use centimeters as the height and width variables though) that is unlocked."
   ]
  },
  {
   "cell_type": "code",
   "execution_count": 3,
   "metadata": {},
   "outputs": [],
   "source": [
    "#include <iostream>  // std::string\n",
    "using std::string;\n",
    "\n",
    "struct Door {\n",
    "    string color {\"white\"};\n",
    "    string material {\"wood\"};\n",
    "    bool locked {false};\n",
    "    float height {213.36}; // cm conversion from feet\n",
    "    float width {91.44}; // cm conversion from feet\n",
    "}"
   ]
  },
  {
   "cell_type": "markdown",
   "metadata": {},
   "source": [
    "Now let's create a new door object and print it out to console. Your first in-game door object will need to be one with the following characteristics:\n",
    "\n",
    "1. Blue metal door\n",
    "2. 4x6 meters\n",
    "3. Locked\n",
    "\n",
    "The door will be used for all of the townhome doors in the game so ensure you name this object `townhome_door_01` so the rest of your team does not need to search for the name in you code. Let's see what that code looks like below:"
   ]
  },
  {
   "cell_type": "code",
   "execution_count": 4,
   "metadata": {},
   "outputs": [],
   "source": [
    "// create the door object you've been assigned\n",
    "Door townhome_door_01 {\n",
    "    \"blue\",\n",
    "    \"metal\",\n",
    "    true,\n",
    "    600.00,\n",
    "    400.00\n",
    "}"
   ]
  },
  {
   "cell_type": "code",
   "execution_count": 5,
   "metadata": {},
   "outputs": [
    {
     "name": "stdout",
     "output_type": "stream",
     "text": [
      "Features of townhome_door_01\n",
      "----------------------------\n",
      "Color:                blue\n",
      "Material:             metal\n",
      "Locked:               1\n",
      "Height:               600\n",
      "Width:                400"
     ]
    }
   ],
   "source": [
    "std::cout << \"Features of townhome_door_01\\n\"\n",
    "          << \"----------------------------\\n\"\n",
    "          << \"Color:                \" << townhome_door_01.color << \"\\n\"\n",
    "          << \"Material:             \" << townhome_door_01.material << \"\\n\"\n",
    "          << \"Locked:               \" << townhome_door_01.locked << \"\\n\"\n",
    "          << \"Height:               \" << townhome_door_01.height << \"\\n\"\n",
    "          << \"Width:                \" << townhome_door_01.width;"
   ]
  },
  {
   "cell_type": "markdown",
   "metadata": {},
   "source": [
    "### Final practice"
   ]
  },
  {
   "cell_type": "markdown",
   "metadata": {},
   "source": [
    "Finally, you have been assigned to create one more door. Your team lead said that they would like you to create the door to the first level boss' castle doorway. The door must be 40x100 feet tall, wooden with no color (use `\"NONE\"` as the string since C++ does not have null string types). The door will be unlocked for when the hero reaches it. The door object should be called `boss_01_castle_entrance` for your peers to easily find."
   ]
  },
  {
   "cell_type": "code",
   "execution_count": 6,
   "metadata": {},
   "outputs": [
    {
     "name": "stdout",
     "output_type": "stream",
     "text": [
      "Features of the door\n",
      "--------------------\n",
      "Color:        NONE\n",
      "Material:     wooden\n",
      "Locked:       0\n",
      "Height:       3048\n",
      "Width:        1219.2"
     ]
    }
   ],
   "source": [
    "// door features print function\n",
    "void PrintDoorFeatures(Door door){\n",
    "    std::cout << \"Features of the door\\n\"\n",
    "              << \"--------------------\\n\"\n",
    "              << \"Color:        \" << door.color << \"\\n\"\n",
    "              << \"Material:     \" << door.material << \"\\n\"\n",
    "              << \"Locked:       \" << door.locked << \"\\n\"\n",
    "              << \"Height:       \" << door.height << \"\\n\"\n",
    "              << \"Width:        \" << door.width;\n",
    "}\n",
    "\n",
    "// create the first level boss' castle doorway\n",
    "Door boss_01_castle_entrance {\"NONE\", \"wooden\", false, 3048.00, 1219.20};\n",
    "\n",
    "PrintDoorFeatures(boss_01_castle_entrance);"
   ]
  },
  {
   "cell_type": "code",
   "execution_count": null,
   "metadata": {},
   "outputs": [],
   "source": []
  }
 ],
 "metadata": {
  "kernelspec": {
   "display_name": "C++17",
   "language": "C++17",
   "name": "xcpp17"
  },
  "language_info": {
   "codemirror_mode": "text/x-c++src",
   "file_extension": ".cpp",
   "mimetype": "text/x-c++src",
   "name": "c++",
   "version": "17"
  }
 },
 "nbformat": 4,
 "nbformat_minor": 4
}
