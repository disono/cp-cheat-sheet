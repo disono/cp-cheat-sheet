{
 "cells": [
  {
   "cell_type": "code",
   "execution_count": 1,
   "metadata": {},
   "outputs": [
    {
     "name": "stdout",
     "output_type": "stream",
     "text": [
      "unique: 0x7fc5488a1d70, 3, 0x7fc5488a1d70\n"
     ]
    }
   ],
   "source": [
    "#include <iostream>\n",
    "#include <memory>\n",
    "#include <utility>\n",
    "\n",
    "std::unique_ptr<int> unique (new int);\n",
    "*unique = 3;\n",
    "\n",
    "std::cout << \"unique: \" << unique << \", \" << *unique << \", \" << unique.get() <<\"\\n\";"
   ]
  },
  {
   "cell_type": "markdown",
   "metadata": {},
   "source": [
    "## MyObject Class"
   ]
  },
  {
   "cell_type": "code",
   "execution_count": 2,
   "metadata": {},
   "outputs": [],
   "source": [
    "class MyObject {\n",
    "    private:\n",
    "        std::string str_;\n",
    "    public:\n",
    "        MyObject() {}\n",
    "        MyObject(std::string str) : str_(str) {}\n",
    "        ~MyObject() {std::cout << str_ << \" has been destroyed\\n\";}\n",
    "        void setText (std::string str) {str_ = str;}\n",
    "};"
   ]
  },
  {
   "cell_type": "code",
   "execution_count": 3,
   "metadata": {},
   "outputs": [],
   "source": [
    "std::unique_ptr<MyObject> myObj1 (new MyObject());\n",
    "std::unique_ptr<MyObject> myObj2 (new MyObject(\"hello\"));"
   ]
  },
  {
   "cell_type": "code",
   "execution_count": 4,
   "metadata": {},
   "outputs": [],
   "source": [
    "myObj1->setText(\"world\");"
   ]
  },
  {
   "cell_type": "code",
   "execution_count": 5,
   "metadata": {},
   "outputs": [],
   "source": [
    "*myObj2 = *myObj1;"
   ]
  },
  {
   "cell_type": "code",
   "execution_count": 6,
   "metadata": {},
   "outputs": [
    {
     "name": "stdout",
     "output_type": "stream",
     "text": [
      "0x7fc548b4aca0"
     ]
    },
    {
     "data": {
      "text/plain": [
       "@0x10b1b2ec0"
      ]
     },
     "execution_count": 6,
     "metadata": {},
     "output_type": "execute_result"
    }
   ],
   "source": [
    "std::cout << myObj1"
   ]
  },
  {
   "cell_type": "code",
   "execution_count": 7,
   "metadata": {},
   "outputs": [
    {
     "name": "stdout",
     "output_type": "stream",
     "text": [
      "0x7fc548b59640"
     ]
    },
    {
     "data": {
      "text/plain": [
       "@0x10b1b2ec0"
      ]
     },
     "execution_count": 7,
     "metadata": {},
     "output_type": "execute_result"
    }
   ],
   "source": [
    "std::cout << myObj2"
   ]
  },
  {
   "cell_type": "code",
   "execution_count": 8,
   "metadata": {},
   "outputs": [
    {
     "name": "stdout",
     "output_type": "stream",
     "text": [
      "0x7fc548b4aca0"
     ]
    },
    {
     "data": {
      "text/plain": [
       "@0x10b1b2ec0"
      ]
     },
     "execution_count": 8,
     "metadata": {},
     "output_type": "execute_result"
    }
   ],
   "source": [
    "std::cout << myObj1.get()"
   ]
  },
  {
   "cell_type": "code",
   "execution_count": 9,
   "metadata": {},
   "outputs": [
    {
     "name": "stdout",
     "output_type": "stream",
     "text": [
      "0x7fc548b59640"
     ]
    },
    {
     "data": {
      "text/plain": [
       "@0x10b1b2ec0"
      ]
     },
     "execution_count": 9,
     "metadata": {},
     "output_type": "execute_result"
    }
   ],
   "source": [
    "std::cout << myObj2.get()"
   ]
  },
  {
   "cell_type": "code",
   "execution_count": 15,
   "metadata": {},
   "outputs": [],
   "source": [
    "void initObjs () {\n",
    "    std::unique_ptr<MyObject> myObj1 (new MyObject());\n",
    "    std::unique_ptr<MyObject> myObj2 (new MyObject(\"hello\"));\n",
    "    myObj1->setText(\"world\");\n",
    "    *myObj2 = *myObj1;\n",
    "    std::cout << \"myObj1 stack address: \" << myObj1.get() << \"\\n\"\n",
    "              << \"myObj2 stack address: \" << myObj2.get() << \"\\n\";\n",
    "}"
   ]
  },
  {
   "cell_type": "code",
   "execution_count": 16,
   "metadata": {},
   "outputs": [
    {
     "name": "stdout",
     "output_type": "stream",
     "text": [
      "myObj1 stack address: 0x7fc5488e52e0\n",
      "myObj2 stack address: 0x7fc5488d8770\n",
      "world has been destroyed\n",
      "world has been destroyed\n"
     ]
    }
   ],
   "source": [
    "initObjs()"
   ]
  },
  {
   "cell_type": "code",
   "execution_count": null,
   "metadata": {},
   "outputs": [],
   "source": []
  }
 ],
 "metadata": {
  "kernelspec": {
   "display_name": "C++11",
   "language": "C++11",
   "name": "xcpp11"
  },
  "language_info": {
   "codemirror_mode": "text/x-c++src",
   "file_extension": ".cpp",
   "mimetype": "text/x-c++src",
   "name": "c++",
   "version": "11"
  }
 },
 "nbformat": 4,
 "nbformat_minor": 4
}
